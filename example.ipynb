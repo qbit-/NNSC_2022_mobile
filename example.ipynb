{
 "cells": [
  {
   "cell_type": "code",
   "execution_count": null,
   "metadata": {},
   "outputs": [],
   "source": [
    "import torch\n",
    "import torchvision\n",
    "from torch.utils.bundled_inputs import (\n",
    "    augment_model_with_bundled_inputs)\n",
    "from torch.utils.mobile_optimizer import optimize_for_mobile\n",
    "\n",
    "import json\n",
    "from device_profiling import check_device, run_on_device, parse_profiler_output, DEFAULT_PROF_CONFIG"
   ]
  },
  {
   "cell_type": "markdown",
   "metadata": {},
   "source": [
    "## Make a model in the form of TorchScript"
   ]
  },
  {
   "cell_type": "code",
   "execution_count": null,
   "metadata": {},
   "outputs": [],
   "source": [
    "model = torchvision.models.resnet18(pretrained=True)\n",
    "model.eval()\n",
    "example = torch.zeros(1, 3, 224, 224)\n",
    "script_module = torch.jit.trace(model, example)\n",
    "script_module_optimized = optimize_for_mobile(script_module)\n",
    "augment_model_with_bundled_inputs(script_module_optimized, [(example,)])\n",
    "\n",
    "torch.jit.save(script_module_optimized, \"./resnet18.pt\")"
   ]
  },
  {
   "cell_type": "markdown",
   "metadata": {},
   "source": [
    "## Set up profiling config and run profiler"
   ]
  },
  {
   "cell_type": "code",
   "execution_count": null,
   "metadata": {},
   "outputs": [],
   "source": [
    "profiling_config=DEFAULT_PROF_CONFIG\n",
    "profiling_config['vulkan'] = False\n",
    "profiling_config['caffe2_threadpool_android_cap'] = num_threads\n",
    "profiling_config['caffe2_threadpool_force_inline'] = True\n",
    "profiling_config['iter'] = 100\n",
    "profiling_config['warmup'] = 30\n",
    "profiling_config['use_bundled_input'] = 0\n",
    "model_filename = './resnet18.pt'\n",
    "\n",
    "raw_out = run_on_device(\n",
    "        model_filename,\n",
    "        prof_config=profiling_config,\n",
    "        verbose=True)\n",
    "        \n",
    "res = parse_profiler_output(raw_out, is_file=False)"
   ]
  },
  {
   "cell_type": "code",
   "execution_count": null,
   "metadata": {},
   "outputs": [],
   "source": [
    "# inspect result\n",
    "print(json.dumps(res, indent=2))"
   ]
  }
 ],
 "metadata": {
  "interpreter": {
   "hash": "aee8b7b246df8f9039afb4144a1f6fd8d2ca17a180786b69acc140d282b71a49"
  },
  "kernelspec": {
   "display_name": "Python 3.9.1 64-bit",
   "language": "python",
   "name": "python3"
  },
  "language_info": {
   "name": "python",
   "version": "3.9.1"
  },
  "orig_nbformat": 4
 },
 "nbformat": 4,
 "nbformat_minor": 2
}
